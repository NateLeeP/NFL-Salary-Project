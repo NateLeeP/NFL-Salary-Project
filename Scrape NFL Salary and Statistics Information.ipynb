{
 "cells": [
  {
   "cell_type": "code",
   "execution_count": 1,
   "metadata": {},
   "outputs": [],
   "source": [
    "import pandas as pd\n",
    "import requests \n",
    "from bs4 import BeautifulSoup as bs"
   ]
  },
  {
   "cell_type": "code",
   "execution_count": 2,
   "metadata": {},
   "outputs": [
    {
     "data": {
      "text/plain": [
       "'Goal of this project is to scrape 2019 NFL QB statistics and salary. Using regression analysis, we will determine who is overpaid and underpaid.\\nWe will come to our conclusion by creating a line of best fit, with Salary as the outcome variable, and determining those beneath the line are underpaid, while those\\nover the line of best fit are overpaid '"
      ]
     },
     "execution_count": 2,
     "metadata": {},
     "output_type": "execute_result"
    }
   ],
   "source": [
    "\"\"\"Goal of this project is to scrape 2019 NFL QB statistics and salary. Using regression analysis, we will determine who is overpaid and underpaid.\n",
    "We will come to our conclusion by creating a line of best fit, with Salary as the outcome variable, and determining those beneath the line are underpaid, while those\n",
    "over the line of best fit are overpaid \"\"\""
   ]
  },
  {
   "cell_type": "code",
   "execution_count": 3,
   "metadata": {},
   "outputs": [],
   "source": [
    "# Step 1. Scrape 2019 NFL QB statistics. Save into CSV. \n",
    "nfl_stats_request = requests.get('https://www.pro-football-reference.com/years/2019/passing.htm').text\n",
    "nfl_stats_soup = bs(nfl_stats_request, 'html')"
   ]
  },
  {
   "cell_type": "code",
   "execution_count": 17,
   "metadata": {},
   "outputs": [],
   "source": [
    "nfl_stats_header = [th.text for th in nfl_stats_soup.find('tr')('th')]"
   ]
  },
  {
   "cell_type": "code",
   "execution_count": 37,
   "metadata": {},
   "outputs": [],
   "source": [
    "nfl_stats_data = [[td.text for td in tr.findAll('td')] for tr in nfl_stats_soup.findAll('tr')[1:len(nfl_stats_soup.findAll('tr'))]]"
   ]
  },
  {
   "cell_type": "code",
   "execution_count": 42,
   "metadata": {},
   "outputs": [],
   "source": [
    "nfl_raw_stats_df = pd.DataFrame(nfl_stats_data, columns = nfl_stats_header[1:])"
   ]
  },
  {
   "cell_type": "code",
   "execution_count": 44,
   "metadata": {},
   "outputs": [],
   "source": [
    "nfl_raw_stats_df.to_csv(r'C:\\Users\\nlpru\\Desktop\\Untitled Folder\\nfl_raw_stats_data.csv',index = False)"
   ]
  },
  {
   "cell_type": "code",
   "execution_count": 61,
   "metadata": {},
   "outputs": [],
   "source": [
    "# Step 2. Scrape 2019 NFL QB Salaries. Save into CSV\n",
    "nfl_salaries_request = requests.get('https://www.spotrac.com/nfl/rankings/2019/average/quarterback/').text\n",
    "nfl_salaries_soup = bs(nfl_salaries_request, 'html')"
   ]
  },
  {
   "cell_type": "code",
   "execution_count": 62,
   "metadata": {},
   "outputs": [],
   "source": [
    "nfl_salaries_headers = [th.text for th in nfl_salaries_soup.find('tr').findAll('th')]"
   ]
  },
  {
   "cell_type": "code",
   "execution_count": 63,
   "metadata": {},
   "outputs": [],
   "source": [
    "nfl_salaries_raw_data = [[td.text for td in tr.findAll('td')] for tr in nfl_salaries_soup.findAll('tr')[1:len(nfl_salaries_soup.findAll('tr'))]]"
   ]
  },
  {
   "cell_type": "code",
   "execution_count": 64,
   "metadata": {},
   "outputs": [
    {
     "data": {
      "text/plain": [
       "[['1', '', '\\nRussell Wilson\\nQuarterback\\n', '$35,000,000  '],\n",
       " ['2', '', '\\nBen Roethlisberger\\nQuarterback\\n', '$34,000,000  '],\n",
       " ['3', '', '\\nAaron Rodgers\\nQuarterback\\n', '$33,500,000  '],\n",
       " ['', '', '\\nJared Goff\\nQuarterback\\n', '$33,500,000  '],\n",
       " ['5', '', '\\nCarson Wentz\\nQuarterback\\n', '$32,000,000  '],\n",
       " ['6', '', '\\nMatt Ryan\\nQuarterback\\n', '$30,000,000  '],\n",
       " ['7', '', '\\nKirk Cousins\\nQuarterback\\n', '$28,000,000  '],\n",
       " ['8', '', '\\nJimmy Garoppolo\\nQuarterback\\n', '$27,500,000  '],\n",
       " ['9', '', '\\nMatthew Stafford\\nQuarterback\\n', '$27,000,000  '],\n",
       " ['10', '', '\\nDrew Brees\\nQuarterback\\n', '$25,000,000  '],\n",
       " ['', '', '\\nDerek Carr\\nQuarterback\\n', '$25,000,000  '],\n",
       " ['12', '', '\\nAlex Smith\\nQuarterback\\n', '$23,500,000  '],\n",
       " ['13', '', '\\nTom Brady\\nQuarterback\\n', '$23,000,000  '],\n",
       " ['14', '', '\\nJoe Flacco\\nQuarterback\\n', '$22,133,333  '],\n",
       " ['15', '', '\\nNick Foles\\nQuarterback\\n', '$22,000,000  '],\n",
       " ['16', '', '\\nEli Manning\\nQuarterback\\n', '$21,000,000  '],\n",
       " ['17', '', '\\nPhilip Rivers\\nQuarterback\\n', '$20,812,500  '],\n",
       " ['18', '', '\\nCam Newton\\nQuarterback\\n', '$20,760,000  '],\n",
       " ['19', '', '\\nAndy Dalton\\nQuarterback\\n', '$16,000,000  '],\n",
       " ['20', '', '\\nJacoby Brissett\\nQuarterback\\n', '$15,000,000  '],\n",
       " ['21', '', '\\nKyler Murray\\nQuarterback\\n', '$8,789,661  '],\n",
       " ['22', '', '\\nBaker Mayfield\\nQuarterback\\n', '$8,170,745  '],\n",
       " ['23', '', '\\nSam Darnold\\nQuarterback\\n', '$7,561,929  '],\n",
       " ['24', '', '\\nMitchell Trubisky\\nQuarterback\\n', '$7,258,106  '],\n",
       " ['25', '', '\\nTeddy Bridgewater\\nQuarterback\\n', '$7,250,000  '],\n",
       " ['26', '', '\\nDaniel Jones\\nQuarterback\\n', '$6,416,014  '],\n",
       " ['27', '', '\\nJameis Winston\\nQuarterback\\n', '$6,337,819  '],\n",
       " ['28', '', '\\nMarcus Mariota\\nQuarterback\\n', '$6,053,494  '],\n",
       " ['29', '', '\\nRyan Fitzpatrick\\nQuarterback\\n', '$5,500,000  '],\n",
       " ['', '', '\\nTyrod Taylor\\nQuarterback\\n', '$5,500,000  '],\n",
       " ['31', '', '\\nJosh Allen\\nQuarterback\\n', '$5,295,760  '],\n",
       " ['32', '', '\\nChase Daniel\\nQuarterback\\n', '$5,000,000  '],\n",
       " ['33', '', '\\nJosh Rosen\\nQuarterback\\n', '$4,399,439  '],\n",
       " ['34', '', '\\nPatrick Mahomes\\nQuarterback\\n', '$4,106,447  '],\n",
       " ['35', '', '\\nBrian Hoyer\\nQuarterback\\n', '$4,000,000  '],\n",
       " ['36', '', '\\nDwayne Haskins\\nQuarterback\\n', '$3,604,153  '],\n",
       " ['37', '', '\\nCase Keenum\\nQuarterback\\n', '$3,500,000  '],\n",
       " ['38', '', '\\nDeshaun Watson\\nQuarterback\\n', '$3,463,570  '],\n",
       " ['39', '', '\\nChad Henne\\nQuarterback\\n', '$3,350,000  '],\n",
       " ['40', '', '\\nDrew Stanton\\nQuarterback\\n', '$3,250,000  '],\n",
       " ['', '', '\\nColt McCoy\\nQuarterback\\n', '$3,250,000  '],\n",
       " ['42', '', '\\nNate Sudfeld\\nQuarterback\\n', '$3,095,000  '],\n",
       " ['43', '', '\\nA.J. McCarron\\nQuarterback\\n', '$3,000,000  '],\n",
       " ['44', '', '\\nLamar Jackson\\nQuarterback\\n', '$2,367,912  '],\n",
       " ['45', '', '\\nRyan Tannehill\\nQuarterback\\n', '$2,000,000  '],\n",
       " ['', '', '\\nMatt Barkley\\nQuarterback\\n', '$2,000,000  '],\n",
       " ['', '', '\\nTrevor Siemian\\nQuarterback\\n', '$2,000,000  '],\n",
       " ['', '', '\\nJosh McCown\\nQuarterback\\n', '$2,000,000  '],\n",
       " ['', '', '\\nRobert Griffin III\\nQuarterback\\n', '$2,000,000  '],\n",
       " ['50', '', '\\nMike Glennon\\nQuarterback\\n', '$1,950,000  '],\n",
       " ['51', '', '\\nMatt Schaub\\nQuarterback\\n', '$1,890,000  '],\n",
       " ['52', '', '\\nBrett Hundley\\nQuarterback\\n', '$1,875,000  '],\n",
       " ['53', '', '\\nDrew Lock\\nQuarterback\\n', '$1,752,704  '],\n",
       " ['54', '', '\\nBlaine Gabbert\\nQuarterback\\n', '$1,600,000  '],\n",
       " ['55', '', '\\nRyan Griffin\\nQuarterback\\n', '$1,450,000  '],\n",
       " ['56', '', '\\nDeShone Kizer\\nQuarterback\\n', '$1,237,104  '],\n",
       " ['57', '', '\\nMatt Moore\\nQuarterback\\n', '$1,030,000  '],\n",
       " ['58', '', '\\nJoe Webb\\nQuarterback\\n', '$1,020,000  '],\n",
       " ['59', '', '\\nBlake Bortles\\nQuarterback\\n', '$1,000,000  '],\n",
       " ['60', '', '\\nMason Rudolph\\nQuarterback\\n', '$980,472  '],\n",
       " ['61', '', '\\nWill Grier\\nQuarterback\\n', '$963,249  '],\n",
       " ['62', '', '\\nAlex Tanney\\nQuarterback\\n', '$912,500  '],\n",
       " ['63', '', '\\nSean Mannion\\nQuarterback\\n', '$895,000  '],\n",
       " ['64', '', '\\nC.J. Beathard\\nQuarterback\\n', '$882,162  '],\n",
       " ['65', '', '\\nRyan Finley\\nQuarterback\\n', '$827,414  '],\n",
       " ['66', '', '\\nGeno Smith\\nQuarterback\\n', '$805,000  '],\n",
       " ['', '', '\\nDavid Fales\\nQuarterback\\n', '$805,000  '],\n",
       " ['68', '', '\\nJarrett Stidham\\nQuarterback\\n', '$788,423  '],\n",
       " ['69', '', '\\nCody Kessler\\nQuarterback\\n', '$770,000  '],\n",
       " ['70', '', '\\nJoshua Dobbs\\nQuarterback\\n', '$749,781  '],\n",
       " ['71', '', '\\nJeff Driskel\\nQuarterback\\n', '$720,000  '],\n",
       " ['72', '', '\\nEaston Stick\\nQuarterback\\n', '$699,391  '],\n",
       " ['73', '', '\\nPaxton Lynch\\nQuarterback\\n', '$690,000  '],\n",
       " ['', '', '\\nGarrett Gilbert\\nQuarterback\\n', '$690,000  '],\n",
       " ['', '', '\\nKyle Sloter\\nQuarterback\\n', '$690,000  '],\n",
       " ['76', '', '\\nDak Prescott\\nQuarterback\\n', '$680,848  '],\n",
       " ['77', '', '\\nGardner Minshew\\nQuarterback\\n', '$677,721  '],\n",
       " ['78', '', '\\nTrace McSorley\\nQuarterback\\n', '$670,172  '],\n",
       " ['79', '', '\\nNathan Peterman\\nQuarterback\\n', '$645,000  '],\n",
       " ['', '', '\\nBrandon Allen\\nQuarterback\\n', '$645,000  '],\n",
       " ['', '', '\\nMatt Simms\\nQuarterback\\n', '$645,000  '],\n",
       " ['82', '', '\\nChad Kelly\\nQuarterback\\n', '$615,000  '],\n",
       " ['83', '', '\\nDavid Blough\\nQuarterback\\n', '$591,667  '],\n",
       " ['84', '', '\\nJacob Dolegala\\nQuarterback\\n', '$586,667  '],\n",
       " ['85', '', '\\nTim Boyle\\nQuarterback\\n', '$572,000  '],\n",
       " ['86', '', '\\nTaysom Hill\\nQuarterback\\n', '$556,667  '],\n",
       " ['', '', '\\nCooper Rush\\nQuarterback\\n', '$556,667  '],\n",
       " ['88', '', '\\nDrew Anderson\\nQuarterback\\n', '$540,000  '],\n",
       " ['', '', '\\nDevlin Hodges\\nQuarterback\\n', '$540,000  '],\n",
       " ['', '', '\\nKurt Benkert\\nQuarterback\\n', '$540,000  '],\n",
       " ['91', '', '\\nNick Mullens\\nQuarterback\\n', '$525,000  '],\n",
       " ['', '', '\\nKyle Allen\\nQuarterback\\n', '$525,000  '],\n",
       " ['93', '', '\\nJosh Woodrum\\nQuarterback\\n', '$495,000  '],\n",
       " ['94', '', '\\nLogan Woodside\\nQuarterback\\n', '$136,000  ']]"
      ]
     },
     "execution_count": 64,
     "metadata": {},
     "output_type": "execute_result"
    }
   ],
   "source": [
    "nfl_salaries_raw_data"
   ]
  },
  {
   "cell_type": "code",
   "execution_count": 65,
   "metadata": {},
   "outputs": [],
   "source": [
    "nfl_salaries_raw_data_pd = pd.DataFrame(nfl_salaries_raw_data, columns = nfl_salaries_headers)"
   ]
  },
  {
   "cell_type": "code",
   "execution_count": 66,
   "metadata": {},
   "outputs": [],
   "source": [
    "nfl_salaries_raw_data_pd.to_csv(r'C:\\Users\\nlpru\\Desktop\\Untitled Folder\\NFL Project CSV\\nfl_salaries_raw_data_pd.csv',index = False)"
   ]
  },
  {
   "cell_type": "code",
   "execution_count": null,
   "metadata": {},
   "outputs": [],
   "source": []
  }
 ],
 "metadata": {
  "kernelspec": {
   "display_name": "Python 3",
   "language": "python",
   "name": "python3"
  },
  "language_info": {
   "codemirror_mode": {
    "name": "ipython",
    "version": 3
   },
   "file_extension": ".py",
   "mimetype": "text/x-python",
   "name": "python",
   "nbconvert_exporter": "python",
   "pygments_lexer": "ipython3",
   "version": "3.7.6"
  }
 },
 "nbformat": 4,
 "nbformat_minor": 4
}
